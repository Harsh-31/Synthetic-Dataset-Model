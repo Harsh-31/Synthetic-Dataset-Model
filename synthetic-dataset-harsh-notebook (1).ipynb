{
 "cells": [
  {
   "cell_type": "code",
   "execution_count": 2,
   "id": "dc59e3ba-55e8-464e-ad10-481434614365",
   "metadata": {
    "tags": []
   },
   "outputs": [
    {
     "name": "stdout",
     "output_type": "stream",
     "text": [
      "Requirement already satisfied: pandas in /opt/conda/lib/python3.10/site-packages (2.0.3)\n",
      "Requirement already satisfied: scikit-learn in /opt/conda/lib/python3.10/site-packages (1.5.2)\n",
      "Requirement already satisfied: python-dateutil>=2.8.2 in /opt/conda/lib/python3.10/site-packages (from pandas) (2.9.0.post0)\n",
      "Requirement already satisfied: pytz>=2020.1 in /opt/conda/lib/python3.10/site-packages (from pandas) (2024.2)\n",
      "Requirement already satisfied: tzdata>=2022.1 in /opt/conda/lib/python3.10/site-packages (from pandas) (2024.1)\n",
      "Requirement already satisfied: numpy>=1.21.0 in /opt/conda/lib/python3.10/site-packages (from pandas) (1.25.2)\n",
      "Requirement already satisfied: scipy>=1.6.0 in /opt/conda/lib/python3.10/site-packages (from scikit-learn) (1.11.4)\n",
      "Requirement already satisfied: joblib>=1.2.0 in /opt/conda/lib/python3.10/site-packages (from scikit-learn) (1.4.2)\n",
      "Requirement already satisfied: threadpoolctl>=3.1.0 in /opt/conda/lib/python3.10/site-packages (from scikit-learn) (3.5.0)\n",
      "Requirement already satisfied: six>=1.5 in /opt/conda/lib/python3.10/site-packages (from python-dateutil>=2.8.2->pandas) (1.16.0)\n"
     ]
    }
   ],
   "source": [
    "!pip install pandas scikit-learn"
   ]
  },
  {
   "cell_type": "code",
   "execution_count": 111,
   "id": "75c66c7a-ee68-4320-8f88-174ee42d7fb5",
   "metadata": {
    "tags": []
   },
   "outputs": [],
   "source": [
    "from google.cloud import storage\n",
    "import pandas as pd\n",
    "import numpy as np"
   ]
  },
  {
   "cell_type": "code",
   "execution_count": 4,
   "id": "1979f0bc-4df1-4a97-8d1b-dc77895fb778",
   "metadata": {
    "tags": []
   },
   "outputs": [],
   "source": [
    "def download_blob(bucket_name, source_blob_name, destination_file_name):\n",
    "    storage_client = storage.Client()\n",
    "    bucket = storage_client.bucket(bucket_name)\n",
    "    blob = bucket.blob(source_blob_name)\n",
    "    blob.download_to_filename(destination_file_name)"
   ]
  },
  {
   "cell_type": "code",
   "execution_count": 5,
   "id": "ef99af23-b15a-4c08-a88d-87f954ad5a32",
   "metadata": {
    "tags": []
   },
   "outputs": [],
   "source": [
    "bucket_name = 'synthetic-dataset-harsh-bucket'\n",
    "download_blob(bucket_name, 'product_asin.csv', '/tmp/product_asin.csv')\n",
    "download_blob(bucket_name, 'reviews_supplements.csv', '/tmp/reviews_supplements.csv')"
   ]
  },
  {
   "cell_type": "code",
   "execution_count": 6,
   "id": "e72bcab0-3b31-4c5c-9654-d0397b8a1a2c",
   "metadata": {
    "tags": []
   },
   "outputs": [],
   "source": [
    "product_df = pd.read_csv('/tmp/product_asin.csv')\n",
    "review_df = pd.read_csv('/tmp/reviews_supplements.csv')"
   ]
  },
  {
   "cell_type": "code",
   "execution_count": 7,
   "id": "a54cce4c-f5fe-4468-9ca5-29e7ff9129e2",
   "metadata": {
    "tags": []
   },
   "outputs": [
    {
     "name": "stdout",
     "output_type": "stream",
     "text": [
      "X                   0\n",
      "title              25\n",
      "parent_asin         0\n",
      "categories          0\n",
      "cat1                0\n",
      "cat2            17863\n",
      "cat3            33814\n",
      "cat4           187060\n",
      "cat5           386735\n",
      "cat6           461201\n",
      "dtype: int64\n"
     ]
    }
   ],
   "source": [
    "\n",
    "print(product_df.isnull().sum())"
   ]
  },
  {
   "cell_type": "code",
   "execution_count": 8,
   "id": "1a9a1b1b-337b-4ff3-8768-c40c90ccdd8a",
   "metadata": {
    "tags": []
   },
   "outputs": [],
   "source": [
    "for column in product_df.columns:\n",
    "    if product_df[column].dtype == 'object':  \n",
    "        product_df[column].fillna('', inplace=True)\n",
    "    else:  \n",
    "        product_df[column].fillna(0, inplace=True)"
   ]
  },
  {
   "cell_type": "code",
   "execution_count": 84,
   "id": "3ba3e39a-461a-4765-82a4-f4a12d866315",
   "metadata": {
    "tags": []
   },
   "outputs": [
    {
     "name": "stdout",
     "output_type": "stream",
     "text": [
      "X              0\n",
      "title          0\n",
      "parent_asin    0\n",
      "categories     0\n",
      "cat1           0\n",
      "cat2           0\n",
      "cat3           0\n",
      "cat4           0\n",
      "cat5           0\n",
      "cat6           0\n",
      "dtype: int64\n"
     ]
    }
   ],
   "source": [
    "print(product_df.isnull().sum())"
   ]
  },
  {
   "cell_type": "code",
   "execution_count": 9,
   "id": "5911bccd-0ce3-41bb-9063-54f866f54b16",
   "metadata": {
    "tags": []
   },
   "outputs": [
    {
     "name": "stdout",
     "output_type": "stream",
     "text": [
      "rating               0\n",
      "title                7\n",
      "text                 5\n",
      "asin                 0\n",
      "parent_asin          0\n",
      "user_id              0\n",
      "timestamp            0\n",
      "helpful_vote         0\n",
      "verified_purchase    0\n",
      "date                 0\n",
      "time                 0\n",
      "dtype: int64\n"
     ]
    }
   ],
   "source": [
    "print(review_df.isnull().sum())"
   ]
  },
  {
   "cell_type": "code",
   "execution_count": 72,
   "id": "2b4d2977-3e7a-439e-89ba-83bde324d766",
   "metadata": {
    "tags": []
   },
   "outputs": [],
   "source": [
    "for column in review_df.columns:\n",
    "    if review_df[column].dtype == 'object':  \n",
    "        review_df[column].fillna('', inplace=True)\n",
    "    else:  \n",
    "        review_df[column].fillna(0, inplace=True)"
   ]
  },
  {
   "cell_type": "code",
   "execution_count": 85,
   "id": "057dff6d-fcaf-4345-8b38-910436903d06",
   "metadata": {
    "tags": []
   },
   "outputs": [
    {
     "name": "stdout",
     "output_type": "stream",
     "text": [
      "rating               0\n",
      "title                0\n",
      "text                 0\n",
      "asin                 0\n",
      "parent_asin          0\n",
      "user_id              0\n",
      "timestamp            0\n",
      "helpful_vote         0\n",
      "verified_purchase    0\n",
      "date                 0\n",
      "time                 0\n",
      "dtype: int64\n"
     ]
    }
   ],
   "source": [
    "print(review_df.isnull().sum())"
   ]
  },
  {
   "cell_type": "code",
   "execution_count": 90,
   "id": "3dbace41-c5c6-4cb2-a7c8-f19c23f25669",
   "metadata": {
    "tags": []
   },
   "outputs": [],
   "source": [
    "product_df['categories'] = product_df['categories'].apply(lambda x: x.replace('[', '').replace(']', '').replace(\"'\", '').strip())\n",
    "product_df['cat1'] = product_df['cat1'].apply(lambda x: x.replace('[', '').replace(']', '').replace(\"'\", '').strip())\n",
    "product_df['cat2'] = product_df['cat2'].apply(lambda x: x.replace('[', '').replace(']', '').replace(\"'\", '').strip())\n",
    "product_df['cat3'] = product_df['cat3'].apply(lambda x: x.replace('[', '').replace(']', '').replace(\"'\", '').strip())\n",
    "product_df['cat4'] = product_df['cat4'].apply(lambda x: x.replace('[', '').replace(']', '').replace(\"'\", '').strip())\n",
    "product_df['cat5'] = product_df['cat5'].apply(lambda x: x.replace('[', '').replace(']', '').replace(\"'\", '').strip())\n",
    "product_df['cat6'] = product_df['cat6'].apply(lambda x: x.replace('[', '').replace(']', '').replace(\"'\", '').strip())"
   ]
  },
  {
   "cell_type": "code",
   "execution_count": 91,
   "id": "f32c2b2c-83a5-4f4a-9fde-e7643041f1e6",
   "metadata": {
    "tags": []
   },
   "outputs": [
    {
     "name": "stdout",
     "output_type": "stream",
     "text": [
      "    X                                              title parent_asin  \\\n",
      "0   1                     Allegra Allergy 45ct + 15 Free  B00JENH5OI   \n",
      "1   2  InvoSpa Shiatsu Back Shoulder and Neck Massage...  B0C4L5Y711   \n",
      "2   4  Kal 100 Mcg Selenium Yeast Free Tablets, 100 C...  B00020HX5S   \n",
      "3   5  Rocky Mountain Oils Cinnamon Bark Essential Oi...  B07K363N3S   \n",
      "4  12  Prevail Super Absorbent Underpads, Prevail Sup...  B00ACMDOOA   \n",
      "\n",
      "           categories                   cat1                         cat2  \\\n",
      "0  Health & Household            Health Care  Over-the-Counter Medication   \n",
      "1  Health & Household  Wellness & Relaxation    Massage Tools & Equipment   \n",
      "2  Health & Household               Vitamins       Minerals & Supplements   \n",
      "3  Health & Household            Health Care         Alternative Medicine   \n",
      "4  Health & Household            Health Care        Incontinence & Ostomy   \n",
      "\n",
      "                            cat3            cat4              cat5 cat6  \n",
      "0                        Allergy  Sinus & Asthma  Allergy Medicine       \n",
      "1             Electric Massagers  Back Massagers                         \n",
      "2                       Vitamins   Multivitamins                         \n",
      "3                   Aromatherapy                                         \n",
      "4  Protective Briefs & Underwear                                         \n",
      "   rating                                title  \\\n",
      "0       4            B Complex in gel cap form   \n",
      "1       5                           Five Stars   \n",
      "2       5                           Five Stars   \n",
      "3       5         Vitamin Shoppe Dry Vitamin A   \n",
      "4       5  Un producto que compro regularmente   \n",
      "\n",
      "                                                text        asin parent_asin  \\\n",
      "0  I bought this along with Vit C in gel cap form...  B00012ND5G  B00012ND5G   \n",
      "1                                      great product  B00013Z0ZQ  B00013Z0ZQ   \n",
      "2                                 Came as expectedly  B00013Z0ZQ  B00013Z0ZQ   \n",
      "3  Excellent Product ..... Fast Delivery ....... ...  B00013Z1KA  B00013Z1KA   \n",
      "4                              Es muy buena vitamina  B00013Z1KA  B00013Z1KA   \n",
      "\n",
      "                        user_id                timestamp  helpful_vote  \\\n",
      "0  AGDVFFLJWAQ3ULNNKF4LXID2RVSQ      2009-12-11 00:37:33             1   \n",
      "1  AG3BSKXHDGP6E3EGQD2SXCK6KFQQ      2015-01-04 03:11:26             0   \n",
      "2  AHG2WKFD4LXPC46WWC6JMQGX52JA      2015-09-27 19:15:33             0   \n",
      "3  AEOF7RT3AC4ACRX5HGIP2V3BNIHA  2019-02-09 19:33:16.911             0   \n",
      "4  AGW2WETWQRL2PKUGTL2LU7IJ2BPQ  2022-07-25 14:11:10.936             0   \n",
      "\n",
      "   verified_purchase        date   time  \n",
      "0               True  2009-12-11  00:37  \n",
      "1               True  2015-01-04  03:11  \n",
      "2               True  2015-09-27  19:15  \n",
      "3               True  2019-02-09  19:33  \n",
      "4               True  2022-07-25  14:11  \n"
     ]
    }
   ],
   "source": [
    "print(product_df.head())\n",
    "print(review_df.head())"
   ]
  },
  {
   "cell_type": "code",
   "execution_count": 92,
   "id": "882097e8-954a-4be5-8ca9-063103cb3c45",
   "metadata": {
    "tags": []
   },
   "outputs": [],
   "source": [
    "import vertexai"
   ]
  },
  {
   "cell_type": "code",
   "execution_count": 93,
   "id": "20cdc6c7-6a1c-41b6-84c0-f0db83438ecc",
   "metadata": {
    "tags": []
   },
   "outputs": [],
   "source": [
    "vertexai.init(project='buoyant-song-437618-k8', location='us-central1')"
   ]
  },
  {
   "cell_type": "code",
   "execution_count": 94,
   "id": "f4a3474f-015f-436b-a73f-2c4e0998f894",
   "metadata": {
    "tags": []
   },
   "outputs": [],
   "source": [
    "from vertexai.preview.language_models import TextGenerationModel\n"
   ]
  },
  {
   "cell_type": "code",
   "execution_count": 95,
   "id": "b04858e0-6f50-4de3-b850-8fccf9c20005",
   "metadata": {
    "tags": []
   },
   "outputs": [],
   "source": [
    "model = TextGenerationModel.from_pretrained(\"google/text-bison@001\")"
   ]
  },
  {
   "cell_type": "code",
   "execution_count": 168,
   "id": "8982f5a0-dc88-40b0-9a4b-152934176a49",
   "metadata": {
    "tags": []
   },
   "outputs": [],
   "source": [
    "def generate_synthetic_row(product_title, review_text):\n",
    "    prompt = f\"\"\"\n",
    "    You are given a product titled \"{product_title}\" and a review that says \"{review_text}\".\n",
    "    Generate a structured synthetic dataset row for this product and review.\n",
    "    The dataset should have these columns: \"title\", \"review_text\", \"rating\", \"user_id\", \"verified_purchase\".\n",
    "    Return the row in CSV format.\n",
    "    \"\"\"\n",
    "    response = model.predict(prompt)\n",
    "    return response.text"
   ]
  },
  {
   "cell_type": "code",
   "execution_count": 169,
   "id": "3e662490-8ba8-4c0e-b697-bc1549aefd43",
   "metadata": {
    "tags": []
   },
   "outputs": [
    {
     "name": "stdout",
     "output_type": "stream",
     "text": [
      "title,review_text,rating,user_id,verified_purchase\n",
      "B Complex in gel cap form,I bought this along with Vit C in gel cap form because a doctor explained on his website that he tests the blood of his patients regularly for the levels of various supplements he recommends and he claimed that pills seemed to result in extremely poor and uneven levels in the body. He also claimed gel caps were much better compared to pills in terms of a more even and reliable absorption into the blood stream.,5,123456789,True\n",
      "title,review_text,rating,user_id,verified_purchase\n",
      "Five Stars,great product,5,123456789,True\n",
      "title,review_text,rating,user_id,verified_purchase\n",
      "Five Stars,Came as expectedly,5,1234567890,True\n",
      "title,review_text,rating,user_id,verified_purchase\n",
      "Vitamin Shoppe Dry Vitamin A,Excellent Product ..... Fast Delivery ....... Will Buy From Again ........ A+A+A+A+A+,5,user_id,True\n",
      "title,review_text,rating,user_id,verified_purchase\n",
      "Un producto que compro regularmente,Es muy buena vitamina,5,123456789,True\n",
      "title,review_text,rating,user_id,verified_purchase\n",
      "Natural Sources,I have been taking this product for years.  I like that it is from all natural sources.,5,user_id,True\n",
      "title,review_text,rating,user_id,verified_purchase\n",
      "Liver Support supplement,I have had good results with this support vitamin.  I even had family member try and said it helped them as well.,5,user_1,True\n",
      "title,review_text,rating,user_id,verified_purchase\n",
      "I feel this is working, had chemotherapy and auto ,I feel this is working, had chemotherapy and auto immune disorder (on going) and this seems to give me a boost for my liver (clean blood).,5,1234567890,True\n",
      "title,review_text,rating,user_id,verified_purchase\n",
      "Five Stars,👍,5,1234567890,True\n",
      "title,review_text,rating,user_id,verified_purchase\n",
      "Five Stars,Very good value!,5,123456789,True\n",
      "title,review_text,rating,user_id,verified_purchase\n",
      "Good product,As per expectation,5,123456789,True\n",
      "title,review_text,rating,user_id,verified_purchase\n",
      "I love this product. There is no duplicate.,I love this extremely good for you, hard to find at a reasonable price product. I feel, see, and look better when I take either two 10,000 or one 25,000 iu gel cap per day. Research it's ingredients to learn of it's many health benefits.,5,123456789,True\n",
      "title,review_text,rating,user_id,verified_purchase\n",
      "Five Stars,Get all you need in one time released vitamin.,5,123456789,True\n",
      "title,review_text,rating,user_id,verified_purchase\n",
      "Working Wll,Am taking at present with no bad taste or smell and easy to swallow, so fine product that works for me.,5,123456789,True\n",
      "title,review_text,rating,user_id,verified_purchase\n",
      "Five Stars,Tiny pills that are perfect,5,1234567890,True\n",
      "title,review_text,rating,user_id,verified_purchase\n",
      "Different Packaging,It looks like the product sent is comparable, though the label is different and the brand I received is Nutricology, not Allergy Research Group as shown in the picture here.,3,123456789,True\n",
      "title,review_text,rating,user_id,verified_purchase\n",
      "Aweful smell,These smelled so bad and tasted so bad that I couldn't keep taking them. I threw them out. Maybe I had a bad batch, but now I'll never know if they help.,1,123456789,True\n",
      "title,review_text,rating,user_id,verified_purchase\n",
      "Strong smell & less effective,I use L-methionine to lower my dog's urinary ph, and decided to try this brand because it cost less. Not worth it. It has a very strong smell that the dog doesn't like and it didn't lower the ph like my usual brand. I am going back to TwinLab.,1,123456789,True\n",
      "title,review_text,rating,user_id,verified_purchase\n",
      "Solves a LOT of problems,If you know what this does, you know why it's necessary to some of us. For me, it replaces TWO THIRDS of the expensive daily dose of 5-HTP I needed to remain depression-free.<br /><br />The pills are a bit large, and this med smells like old socks when you open the jar (every time you do so). It doesn't taste bad, though, and it's worth it.,5,123456789\n",
      "title,review_text,rating,user_id,verified_purchase\n",
      "Stopped after taking it for 3 days because it gave me extreme nauseau,It's not for me.  I didn't take this long enough to say if it helps in any way because I got extremely nauseaus from taking it and quit after 3 days.  The first day I had a basic upset stomach, the next day it was worse, the 3rd day I vommited within 20 minutes of taking it.  Perhaps taking it with food would have helped, but the directions specifically say to take 'between\n",
      "```\n",
      "title,review_text,rating,user_id,verified_purchase\n",
      "Love this Product,I love this product! It has relieved a lot of depression!,5,123456789,True\n",
      "```\n",
      "title,review_text,rating,user_id,verified_purchase\n",
      "picture is not correct,This is a wonderful and very effective allergy product. The description is correct but not the photo. The helps me so much during allergy season and I don't have to take more powerful drugs that have side effects.<br />The item pictured is a really good sore throat spray. Thank you Zand.,5,123456789,yes\n",
      "title,review_text,rating,user_id,verified_purchase\n",
      "Excellent product, relieves my allergy symptoms without side effects of any kind!,Much more effective and gentler than any pharmaceutical drugs for allergies.This is my second bottle, and I had have no unwanted effects (like sleepiness) at all. Love these!,5,123456789,True\n",
      "title,review_text,rating,user_id,verified_purchase\n",
      "Five Stars,Just what I needed-fast shipping.,5,123456789,True\n",
      "title,review_text,rating,user_id,verified_purchase\n",
      "I take them every day,I've been buying these for about 14 years and I take them every day. I love it that there aren't a lot of extra ingredients. I am sensitive to many things and I can take these to help get the vitamins and minerals I need.,5,123456789,True\n",
      "title,review_text,rating,user_id,verified_purchase\n",
      "Five Stars,Purchased for my daughter's  trip to India.  She loves them for a quick snack and meal replacement.,5,123456789,True\n",
      "title,review_text,rating,user_id,verified_purchase\n",
      "6 capsules a day!,Didn't know that the daily dose is 6 capsules.  Poor buy at that daily requirement.,1,123456789,True\n",
      "title,review_text,rating,user_id,verified_purchase\n",
      "excellent at relieving stress,this was recommended initially by an employee at a health food store.  he recommended taking 3 tablets in the AM and 3 at bed-time.  while this is probably overkill, and may not be recommended by true health care professionals, it works for me in improving my  mood and sense of well-being.  for safety, i recommend following the instructions on the Mega Stress 100 label, and of course following your health care professional's advice before taking any supplements.  however, the solution i outlined\n",
      "title,review_text,rating,user_id,verified_purchase\n",
      "great product,I take this for energy and to stop my hair from failling out.  It gets 4 starts on both counts.  I've tried other B-complex vitamins, but have the best results with Mega Stress 100.,4,user_id,true\n",
      "title,review_text,rating,user_id,verified_purchase\n",
      "Three Stars,sligltly better than average,3,user_id,True\n",
      "I love this tea!!!, I blend this herb with oat straw, nettle and horsetail, recommended for combatting dry skin and hair, to make a herbal tea infusion.  This tea blend is really  delicious drunk with lemon and I look forward to drinking it daily.  I also love drinking it alone or blended with Jamaica sorrel.  It is a delightful and nutritious herb whether drunk alone or blended with other herbs. The rose hips are naturally sweet and  I also love eating it after removing the herb from the tea infusion., 5, 123456789, True\n",
      "title,review_text,rating,user_id,verified_purchase\n",
      "Good buy,I love Rosehips tea since childhood, used to gather it myself before and sundry.. I like that it doesn't have the seeds and that it's crushed, lets you put less to brew the tea. Great taste !,5,123456789,True\n",
      "title,review_text,rating,user_id,verified_purchase\n",
      "Five Stars,i always use this item it is great,5,123456789,True\n",
      "title,review_text,rating,user_id,verified_purchase\n",
      "Healthy brain,This product has improved my clarity, moods and my overall sense of well being. Have been using it for more than 6 months now,5,user_1,True\n",
      "title,review_text,rating,user_id,verified_purchase\n",
      "Five Stars,Excellent product. Very pleased with purchase. Will buy again.,5,123456789,True\n",
      "title,review_text,rating,user_id,verified_purchase\n",
      "Pleased,I am pleased with the product and look forward to re-ordering it soon.  My hair has thickened significantly; however, I think it is a result of the bioton, zinc, iron, and hair regimen I devised for myself.  Overall, biotin is a necessary component to my hair health.  I seen a difference within 60 days of using the product.,5,123456789,True\n",
      "title,review_text,rating,user_id,verified_purchase\n",
      "happy for this strength!,my husband uses this for anxiety and depression help, like they talk about in the movie \"food matters\" it is a huge help for him and with the high dose he needs this is the perfect dose capsule because he can take fewer pills. love life extension brand!,5,123456789,yes\n",
      "title,review_text,rating,user_id,verified_purchase\n",
      "good brand-good product,It's the easy way to reduce your cholesterol. Up to 60 points in 2 months with no diet change. Safer than the pills DR. gives you. The flushing gets less everytime you use it.,5,123456789,yes\n",
      "title,review_text,rating,user_id,verified_purchase\n",
      "Cheapest price on Niacin I've found,  Has my Dr. approval.,Just started taking it so we'll see how it works on cholestrol.  One of the few places I found B3 (Niacin) that didn't cost a car payment per month.,5,123456789,True\n",
      "title,review_text,rating,user_id,verified_purchase\n",
      "Watch out - this almost sent me to the hospital,I took one pill after hearing niacin recommended for depression. After 10 minutes my skin was bright red and on FIRE, I was sick and swollen and could barely breathe. DEFINITELY get a lower dosage, this is way too much!,1,123456789,1\n",
      "title,review_text,rating,user_id,verified_purchase\n",
      "Works perfectly,I take this at bedtime with a 325mg regular strength aspirin (available for less than a buck at dollar store or walmart). I don't remember well but maybe I noticed my skin flush once when I woke up while sleeping but I forgot about that by going back to sleep. After that, I had no problems with flushing. But the important thing I think was that I was taking 500mg at night so my body had gotten a bit used to taking the niacin. So if you aren't already on\n",
      "title,review_text,rating,user_id,verified_purchase\n",
      "Might make you hot, red, and itchy,I ordered this for my husband and I. It did make me hot and a little itchy but my poor husband was so red, itchy, and hot, he did not like it at all. If you don't mind the hot and itchiness for 10 minutes I would recommend it but just be warned some people are a little more sensitive to it than others like my husband.,3,123456789,True\n",
      "title,review_text,rating,user_id,verified_purchase\n",
      "I had a kind of bad reaction to it.,About 30 miinutes after taking it I began to feel a burning sensation in my face and chest. It went away after an hour or so. ... Scared the heck out of me... I tossed the rest of the bottle after one pill.,1,123456789,1\n",
      "title,review_text,rating,user_id,verified_purchase\n",
      "Not for me!,I just couldn't handle the \"flush\", I have taken supplements my whole life, but I do not drink energy drinks and I got that same feeling when I took these. I am sure it's a great product but I cannot take it.,1,123456789,1\n",
      "title,review_text,rating,user_id,verified_purchase\n",
      "Sent me to the hospital,Within 10 minutes of taking it my entire body went red, and it felt like it was on FIRE.. literally. Then I had the most terrible cramps.  I almost thought I was going to die.  Spent several hours in the emergency room.  it was a horrific experience.  All I can say is be very careful.  Going to an allergist to ensure that something like this never happens again!,1,123456789,1\n",
      "title,review_text,rating,user_id,verified_purchase\n",
      "Good B3,Very good vitamin product.i take to reduce cholesterol. Sometimes causes a flush, but not too bad. Overall a good product.,5,user_1,True\n",
      "title,review_text,rating,user_id,verified_purchase\n",
      "Love that I can feel this working,People at first think that the niacin flush is a weird feeling which I guess what it is but after you get used to it you come to appreciate that you can tell that it's actually working,5,123456789,True\n",
      "title,review_text,rating,user_id,verified_purchase\n",
      "It works !,I have used Pollen Aid for a while but I was not completely satisfied with the results. This time I doubled the dosis. I take 2 capsules three times a day. Now I can feel the diference. If you are using it to treat your enlarged prostate, try it this way.,5,123456789,True\n",
      "Title,Review Text,Rating,User ID,Verified Purchase\n",
      "Help for prostate enlargement,A friend told me about this becasue it was recommended by his Dr.  It has apparently been a big help to my friend.  However I've been taking it faithfully for about 2 1/2 months now and have not experienced any relief so far.  So while it may be effective for some, it was not effective for me.  I will finish my second supply, but will not purchase this product any more unless it begins to make a difference.,3,123456789,True\n",
      "title,review_text,rating,user_id,verified_purchase\n",
      "PollenAid Flower Pollen,Best Flower Pollen Product for the best price anywhere! I have taken flower pollen for over 30 years and Graminex produces the flower pollen with the  most positive results for me. Use to use product that came from Sweden and distributed by Cernitin America, which I found was packaged by Graminex. PollenAid is as good or better.,5,123456789,True\n",
      "title,review_text,rating,user_id,verified_purchase\n",
      "PollenAid,I've been taking this product for about a month now.  It seems to be doing what my doctor said it might.  I'm ordering more.,5,123456789,True\n",
      "title,review_text,rating,user_id,verified_purchase\n",
      "Recommended by My Doctor,I use it as recommended by my doctor.  It does the job and I haven't noticed any quality control problems from batch to batch.,5,123456789,True\n",
      "title,review_text,rating,user_id,verified_purchase\n",
      "Filler ingredients not disclosed.,This product has several filler ingredients not disclosed on the amazon page. These fillers are meant for ease of  filling capsules by high speed machines( lubrication,etc,..) I don't  like the accumulation of such additives in one's body. I specifically got this brand because of the absence of these chemicals as shown online; however this wasn't the case when I actually received the bottle. Please be accurate about what's in your product.,1,1234567890\n",
      "title,review_text,rating,user_id,verified_purchase\n",
      "Cured prostatitis when Cipro could'nt,The nagging pain and discomfort of prostatitis is depressing.  After 2 months of poisonous Cipro, I jumped onto the pollen (also took Quercetin) and the problem went away.  Also performance in the bedroom is pretty powerful now.  The stream is strong.,5,123456789,True\n",
      "title,review_text,rating,user_id,verified_purchase\n",
      "Works wonders for prostatitis,One per day along with other herbs (Quercertin and Zyflamend) has made a major difference in how my husband feels.,5,123456789,True\n",
      "title,review_text,rating,user_id,verified_purchase\n",
      "Worth a try,I bought this to help with prostatitis.  Seems to be helping, but with most supplements it's difficult to say it was due solely to that supplement.  Usually I try multiple supplements to address any medical issues.,4,123456789,True\n",
      "title,review_text,rating,user_id,verified_purchase\n",
      "It is the original,This is the flower pollen that has been in at least one double blind placebo controlled study for use in prostatodynia.,5,1234567890,True\n",
      "title,review_text,rating,user_id,verified_purchase\n",
      "Allergic to it,Only after 2 pills did my allergies go crazy and took more as described and got even worse.  It took two days to recover from taking it.  Read on website it will not affect allergies which is not true.,1,123456789,True\n",
      "title,review_text,rating,user_id,verified_purchase\n",
      "PollinAid,I've been using this supplement for a year and my urine flow is stronger and frequency of urination has lessened.  If it works for you you will not start seeing positive results for 2 or 3 months, so must take it consistently, every day, and be patient.,5,123456789,True\n",
      "title,review_text,rating,user_id,verified_purchase\n",
      "Just works,Stopped propecia and flomax and switched to this and lo and behold I'm only up once a night and no side effects.  Works for me.,5,123456789,True\n",
      "title,review_text,rating,user_id,verified_purchase\n",
      "a very good natural source solution to an irritating problem,I first start purchasing this product over a decade ago. The doctor was giving me Celebrex. I read about studies on the effectiveness of the pollen extract in properly conducted studies. The use of this product turned a noticeable problem into a minor annoyance.I recommended this product to several friends. It did not work for all of them. This does not mean the product is ineffective.you need to use this for at least three months before expecting a noticeable change.,5,123456\n",
      "title,review_text,rating,user_id,verified_purchase\n",
      "Four Stars,As described,5,1234567890,True\n",
      "title,review_text,rating,user_id,verified_purchase\n",
      "great for prostatitis,great for prostatitis,5,1234567890,True\n",
      "title,review_text,rating,user_id,verified_purchase\n",
      "Beats using a drug to empty your bladder!!!,As good as the prescription drug: Flo Max.&#34; It relaxes the muscles which enables you to pee without using a catheter.,5,123456789,True\n",
      "title,review_text,rating,user_id,verified_purchase\n",
      "This not something you feel working, but I have ...,This not something you feel working, but I have used it for two years and no issues after yearly physical.,5,user_1,True\n",
      "title,review_text,rating,user_id,verified_purchase\n",
      "Snake Oil Category,I used this product for several months and it provided NO RELIEF whatsoever.,1,123456789,True\n",
      "title,review_text,rating,user_id,verified_purchase\n",
      "Five Stars,using this product for over 30 years !,5,123456789,True\n",
      "title,review_text,rating,user_id,verified_purchase\n",
      "Five Stars,Great product.,5,1234567890,True\n",
      "title,review_text,rating,user_id,verified_purchase\n",
      "Graminex always have the best products. They do not add everything possible to ...,Graminex always have the best products. They do not add everything possible to their product in order to try and get yo to buy it. results are good.,5,123456789,True\n",
      "title,review_text,rating,user_id,verified_purchase\n",
      "Four Stars,ok,3,123456789,True\n",
      "title,review_text,rating,user_id,verified_purchase\n",
      "Flower pollen product.,I order from them a couple of times per year-- always good.,5,123456789,True\n",
      "title,review_text,rating,user_id,verified_purchase\n",
      "It works. Plus there are countless double blind placebo ...,It works.  Plus there are countless double blind placebo controlled clinical trials that document the efficacy (Google it).  It's legit.,5,123456789,True\n",
      "title,review_text,rating,user_id,verified_purchase\n",
      "Great product! Will definitely order more,Great product!  Will definitely order more.,5,1234567890,True\n",
      "title,review_text,rating,user_id,verified_purchase\n",
      "Three a day.  One month supply.,Three a day.  One month supply.  I expect results worthy of the projected annual cost.<br /><br />Will update review accordingly.,5,1234567890,True\n",
      "title,review_text,rating,user_id,verified_purchase\n",
      "\"For me this product works to reduce the symptoms of ...\", \"For me this product works to reduce the symptoms of prostatitis. Takes a few weeks for the effects to be significant. Tried other manufacturers Graminex products & did not see the same improvement as with this.\", 5, 123456789, True\n",
      "title,review_text,rating,user_id,verified_purchase\n",
      "Painful side effects,Worked great at first, then it's effects diminished over time. Kills my stomach as well.,1,1,1\n",
      "title,review_text,rating,user_id,verified_purchase\n",
      "Five Stars,satisfied,5,123456789,True\n",
      "title,review_text,rating,user_id,verified_purchase\n",
      "Five Stars,So far so good for my husband,5,123456789,True\n",
      "The opposite of useful, Actually made my oab urge symptoms worse., 1, 123456789, True\n",
      "title,review_text,rating,user_id,verified_purchase\n",
      "Made me worse right away,took 1/2 cap three times a day and after 2 days had to stop thought I was going to go in complete urinary retention. Very bad effect for me. Just opposite what they say.,1,123456789,True\n",
      "title,review_text,rating,user_id,verified_purchase\n",
      "Burns when urinating,I bought this for my husband because he has BPH, has locked up, and has had prostatitis in the past. However, when he takes it, it burns when he urinates. He stopped taking it and the burning disappeared. When he started again, the burning returned. We are disappointed that it hasn't helped.,1,1,1\n",
      "title,review_text,rating,user_id,verified_purchase\n",
      "stability,This product caused a lot of bloating and affected my vagal nerve causing rapid heart rate.,1,123456789,True\n",
      "title,review_text,rating,user_id,verified_purchase\n",
      "Severe Stomach Burning,I have GERD. Took one capsule and four hours later stomach was on fire. So if you have stomach issues don't take this product.,1,123456789,True\n",
      "title,review_text,rating,user_id,verified_purchase\n",
      "Great multi!,Great multivitamin by a reputable company.  Doesn't make my stomach upset like other multivitamin's I've taken.  It's a good price too!,5,123456789,True\n",
      "title,review_text,rating,user_id,verified_purchase\n",
      "good vitamins,Easily digestible, but you do have to take more than one per day to get your minimums, per their instructions.,5,user_1,True\n",
      "title,review_text,rating,user_id,verified_purchase\n",
      "Four Stars,Worked fine,4,123456789,True\n",
      "title,review_text,rating,user_id,verified_purchase\n",
      "Heard great things about Genuine Health brand,Just started using them so the verdict is still out but I heard great things about this brand.,5,123456789,True\n",
      "title,review_text,rating,user_id,verified_purchase\n",
      "EXCELLENT PRODUCT, YOU CAN NOT GET ANY BETTER THAN ...,EXCELLENT PRODUCT  , YOU CAN NOT GET ANY BETTER THAN THIS REBUILD , IT DOES AN  EXCELLENT CLEANSE , REBUILD!!<br />OH,, REMEMBER TO  DRINK  A LOT , A LOT OF DISTILLED  WATER  EVERY HOUR ON THE HOUR , A MUST!!  THANKS AMAZON FOR THIS GREAT PRODUCT,  ITS  SUPER !!,5,A11111111\n",
      "title,review_text,rating,user_id,verified_purchase\n",
      "Great vits,Love these. Even my kids do. They chew the capsules and like the taste. Seems like A&D vitamins are getting harder to find so we have go e through several bottles from this brand and use them any time someone starts getting sick.,5,123456789,True\n",
      "title,review_text,rating,user_id,verified_purchase\n",
      "Value,I liked everything about them,5,1234567890,True\n",
      "title,review_text,rating,user_id,verified_purchase\n",
      "Easy to swallow,This is an easy pill to swallow.  My father takes it as part of his daily supplements.,5,user_1,True\n",
      "title,review_text,rating,user_id,verified_purchase\n",
      "Great product,Great product.  I will purchased it again in the future,5,123456789,True\n",
      "title,review_text,rating,user_id,verified_purchase\n",
      "Awesome thank you...,Good price.Great deal.,5,123456789,True\n",
      "title,review_text,rating,user_id,verified_purchase\n",
      "Good Service,Good price and delivered very rapidly.,5,123456789,True\n",
      "title,review_text,rating,user_id,verified_purchase\n",
      "This is a great product!,Vitamin A is vital to the general health of our immune system.  I love this product and will buy again!,5,123456789,True\n",
      "title,review_text,rating,user_id,verified_purchase\n",
      "Easy to swallow, small sized gel cap,Due to the current pandemic, we as a family have decided to take more vitamins.  This vitamin A gel cap is small and easy to swallow.  We are using the recommended dose and feel this product provides a good value.,5,123456789,True\n",
      "title,review_text,rating,user_id,verified_purchase\n",
      "Great Product,Swanson always provides me with a quality product at a attractive price.,5,123456789,True\n",
      "title,review_text,rating,user_id,verified_purchase\n",
      "great,was very good for you,5,123456789,True\n",
      "title,review_text,rating,user_id,verified_purchase\n",
      "Easy to swollen,Easy to swallow make me feel better,5,123456789,True\n",
      "```\n",
      "title,review_text,rating,user_id,verified_purchase\n",
      "GREAT HEALTH, GREAT VALUE,Good value,5,1234567890,True\n",
      "```\n"
     ]
    }
   ],
   "source": [
    "synthetic_rows = []\n",
    "max_rows = 100\n",
    "\n",
    "for idx, row in review_df.iterrows():\n",
    "    if idx >= max_rows:  \n",
    "        break\n",
    "    synthetic_data = generate_synthetic_row(row['title'], row['text'])\n",
    "    synthetic_rows.append(synthetic_data)\n",
    "\n",
    "for synthetic_row in synthetic_rows:\n",
    "    print(synthetic_row)"
   ]
  },
  {
   "cell_type": "code",
   "execution_count": 170,
   "id": "d60d4dcd-3262-4f93-8bf6-986a223f8e79",
   "metadata": {
    "tags": []
   },
   "outputs": [],
   "source": [
    "import csv\n",
    "from io import StringIO"
   ]
  },
  {
   "cell_type": "code",
   "execution_count": 171,
   "id": "14f96a16-9f55-4a09-a78a-dff4b29ff1c9",
   "metadata": {
    "tags": []
   },
   "outputs": [],
   "source": [
    "synthetic_data_list = []"
   ]
  },
  {
   "cell_type": "code",
   "execution_count": 178,
   "id": "3916f226-dfa8-4744-b7a5-e31adefa82ae",
   "metadata": {
    "tags": []
   },
   "outputs": [],
   "source": [
    "for synthetic_text in synthetic_rows:\n",
    "    reader = csv.DictReader(StringIO(synthetic_text))\n",
    "    for row in reader:\n",
    "        synthetic_data_list.append(row)"
   ]
  },
  {
   "cell_type": "code",
   "execution_count": 179,
   "id": "03baf9fa-3431-4790-8b55-075440178d77",
   "metadata": {
    "tags": []
   },
   "outputs": [],
   "source": [
    "synthetic_df = pd.DataFrame(synthetic_data_list)"
   ]
  },
  {
   "cell_type": "code",
   "execution_count": 180,
   "id": "779782c4-7eeb-4936-816a-c72998a36ceb",
   "metadata": {},
   "outputs": [
    {
     "name": "stdout",
     "output_type": "stream",
     "text": [
      "                                 title  \\\n",
      "0            B Complex in gel cap form   \n",
      "1                           Five Stars   \n",
      "2                           Five Stars   \n",
      "3         Vitamin Shoppe Dry Vitamin A   \n",
      "4  Un producto que compro regularmente   \n",
      "\n",
      "                                         review_text rating     user_id  \\\n",
      "0  I bought this along with Vit C in gel cap form...      5   123456789   \n",
      "1                                      great product      5   123456789   \n",
      "2                                 Came as expectedly      5  1234567890   \n",
      "3  Excellent Product ..... Fast Delivery ....... ...      5     user_id   \n",
      "4                              Es muy buena vitamina      5   123456789   \n",
      "\n",
      "  verified_purchase None  ``` Title Review Text Rating User ID  \\\n",
      "0              True  NaN  NaN   NaN         NaN    NaN     NaN   \n",
      "1              True  NaN  NaN   NaN         NaN    NaN     NaN   \n",
      "2              True  NaN  NaN   NaN         NaN    NaN     NaN   \n",
      "3              True  NaN  NaN   NaN         NaN    NaN     NaN   \n",
      "4              True  NaN  NaN   NaN         NaN    NaN     NaN   \n",
      "\n",
      "  Verified Purchase    t    `    I    T  \n",
      "0               NaN  NaN  NaN  NaN  NaN  \n",
      "1               NaN  NaN  NaN  NaN  NaN  \n",
      "2               NaN  NaN  NaN  NaN  NaN  \n",
      "3               NaN  NaN  NaN  NaN  NaN  \n",
      "4               NaN  NaN  NaN  NaN  NaN  \n"
     ]
    }
   ],
   "source": [
    "print(synthetic_df.head())"
   ]
  },
  {
   "cell_type": "code",
   "execution_count": 187,
   "id": "23a3732f-fac5-4a65-94bd-ce9e11852bc8",
   "metadata": {
    "tags": []
   },
   "outputs": [],
   "source": [
    "review_columns=['rating','title','review_text','user_id']"
   ]
  },
  {
   "cell_type": "code",
   "execution_count": 188,
   "id": "881aee38-a8d1-4738-9514-a57f04b31df5",
   "metadata": {
    "tags": []
   },
   "outputs": [],
   "source": [
    "synthetic_df = synthetic_df.reindex(columns=review_columns, fill_value=np.nan)"
   ]
  },
  {
   "cell_type": "code",
   "execution_count": 189,
   "id": "a8292405-a450-4571-8765-d64d3604a617",
   "metadata": {
    "tags": []
   },
   "outputs": [
    {
     "name": "stdout",
     "output_type": "stream",
     "text": [
      "  rating                                title  \\\n",
      "0      5            B Complex in gel cap form   \n",
      "1      5                           Five Stars   \n",
      "2      5                           Five Stars   \n",
      "3      5         Vitamin Shoppe Dry Vitamin A   \n",
      "4      5  Un producto que compro regularmente   \n",
      "\n",
      "                                         review_text     user_id  \n",
      "0  I bought this along with Vit C in gel cap form...   123456789  \n",
      "1                                      great product   123456789  \n",
      "2                                 Came as expectedly  1234567890  \n",
      "3  Excellent Product ..... Fast Delivery ....... ...     user_id  \n",
      "4                              Es muy buena vitamina   123456789  \n"
     ]
    }
   ],
   "source": [
    "print(synthetic_df.head())"
   ]
  },
  {
   "cell_type": "code",
   "execution_count": 190,
   "id": "62223c09-8b6b-4039-93a3-e0770ab62d1f",
   "metadata": {
    "tags": []
   },
   "outputs": [],
   "source": [
    "synthetic_df.to_csv('/tmp/synthetic_review_dataset.csv', index=False)"
   ]
  },
  {
   "cell_type": "code",
   "execution_count": 191,
   "id": "afe867e9-2d38-408c-a557-1ee1a6bf7267",
   "metadata": {
    "tags": []
   },
   "outputs": [
    {
     "name": "stdout",
     "output_type": "stream",
     "text": [
      "Copying file:///tmp/synthetic_review_dataset.csv [Content-Type=text/csv]...\n",
      "/ [1 files][123.5 KiB/123.5 KiB]                                                \n",
      "Operation completed over 1 objects/123.5 KiB.                                    \n"
     ]
    }
   ],
   "source": [
    "!gsutil cp /tmp/synthetic_review_dataset.csv gs://synthetic-dataset-harsh-bucket/synthetic_review_dataset.csv"
   ]
  },
  {
   "cell_type": "code",
   "execution_count": null,
   "id": "2e5ccb59-add5-46f8-8731-f1c64aa9cfa8",
   "metadata": {},
   "outputs": [],
   "source": []
  }
 ],
 "metadata": {
  "kernelspec": {
   "display_name": "Python (Local)",
   "language": "python",
   "name": "base"
  },
  "language_info": {
   "codemirror_mode": {
    "name": "ipython",
    "version": 3
   },
   "file_extension": ".py",
   "mimetype": "text/x-python",
   "name": "python",
   "nbconvert_exporter": "python",
   "pygments_lexer": "ipython3",
   "version": "3.10.15"
  }
 },
 "nbformat": 4,
 "nbformat_minor": 5
}
